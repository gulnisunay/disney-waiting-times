{
 "cells": [
  {
   "cell_type": "markdown",
   "id": "10c03c17-4680-40a8-9309-04b164d3b3dd",
   "metadata": {},
   "source": [
    "<div style=\"background-color: rgb(235, 218, 30); color: rgb(157, 156, 156); font-size: 24px; font-weight: bold; padding: 10px; border-radius: 15px;\">\n",
    "    Data science at Disney World\n",
    "</div>"
   ]
  },
  {
   "cell_type": "markdown",
   "id": "e3279518-4045-4814-8634-9a367aab56d6",
   "metadata": {},
   "source": [
    "<div style=\"background-color: rgb(235, 218, 30); color: rgb(157, 156, 156); font-size: 24px; font-weight: bold; padding: 10px; border-radius: 15px;\">\n",
    "    Research Question 1: Compare predicted and actual waiting time\n",
    "</div>"
   ]
  },
  {
   "cell_type": "code",
   "execution_count": 1,
   "id": "eb4d5b8f-81cd-41f2-ab2f-735a2c3a993d",
   "metadata": {},
   "outputs": [],
   "source": [
    "import numpy as np\n",
    "import pandas as pd\n",
    "import matplotlib.pyplot as plt\n",
    "import seaborn as sns\n",
    "from tqdm import tqdm\n",
    "import ipywidgets as widgets\n",
    "from ipywidgets import interact"
   ]
  },
  {
   "cell_type": "markdown",
   "id": "f8e2ae86-344f-43dc-bf78-264c9b54e5bc",
   "metadata": {},
   "source": [
    "### 🎢 Compare Predicted and Actual Waiting Times\n",
    "\n",
    "Create a visualization to compare **predicted (posted)** and **actual** waiting times.  \n",
    "You can follow these steps:\n",
    "\n",
    "1. 🔄 For each actual waiting time, find the **previous** and **next** posted waiting times.\n",
    "2. 📈 Use **linear interpolation** to estimate the posted waiting time that corresponds to the actual time.\n",
    "3. ➖ Calculate the **difference** between actual and posted waiting times.\n",
    "4. 📊 Create a **histogram** of all these differences.\n",
    "   - Optionally, use a **scatterplot** or a **2D histogram / heatmap** for more insights.\n",
    "5. 🔍 Investigate specific **dates** and **attractions** with lots of actual waiting time data.\n",
    "   - Plot **actual vs. posted waiting times** together in a single visualization for those cases."
   ]
  },
  {
   "cell_type": "code",
   "execution_count": 2,
   "id": "747e33a3-38b9-427b-974e-f42d328146d0",
   "metadata": {},
   "outputs": [],
   "source": [
    "df = pd.read_csv('C:/Disney_Waiting_Times/disney-waiting-times/all_waiting_times_extracted/all_waiting_times.csv')\n",
    "df['date'] = pd.to_datetime(df['date'], format='%m/%d/%Y')\n",
    "df['datetime'] = pd.to_datetime(df['datetime'])  # # dtype adjusted \n",
    "# df.info()"
   ]
  },
  {
   "cell_type": "code",
   "execution_count": 3,
   "id": "b2908d23-fb2d-4218-8955-07f9ebdd5285",
   "metadata": {},
   "outputs": [],
   "source": [
    "list_attractions = df['attraction'].unique().tolist()"
   ]
  },
  {
   "cell_type": "code",
   "execution_count": 4,
   "id": "b77de412-ac73-4347-a30a-68d2362cff9a",
   "metadata": {
    "jupyter": {
     "source_hidden": true
    }
   },
   "outputs": [],
   "source": [
    "list_attractions = df['attraction'].unique().tolist()\n",
    "list_years = ['2018']\n",
    "\n",
    "df_selection= df.query( ' date.dt.year==2018 and attraction in @list_attractions' ).copy()\n",
    "# df_selection.info()\n",
    "# df_selection"
   ]
  },
  {
   "cell_type": "code",
   "execution_count": 5,
   "id": "ac3c8800-931b-45d5-8b6a-49c2a27b93ec",
   "metadata": {
    "jupyter": {
     "source_hidden": true
    }
   },
   "outputs": [],
   "source": [
    "# show only df_SACTMIN\n",
    "# condition2= df_selection['SACTMIN'].notna()\n",
    "# df_selection[condition2]"
   ]
  },
  {
   "cell_type": "code",
   "execution_count": 6,
   "id": "480f5db5-695f-47b9-8e46-ede9b2ce0def",
   "metadata": {
    "jupyter": {
     "source_hidden": true
    }
   },
   "outputs": [
    {
     "name": "stderr",
     "output_type": "stream",
     "text": [
      "100%|████████████████████████████████████████████████████████████████████████████| 15534/15534 [00:37<00:00, 418.26it/s]\n"
     ]
    }
   ],
   "source": [
    "interpolated_dfs = {}\n",
    "\n",
    "for (attraction, date), group in tqdm( df_selection.groupby(['attraction', 'date']) ):\n",
    "    group.set_index('datetime', inplace=True)\n",
    "    group['SPOSTMIN'] = group['SPOSTMIN'].interpolate(method='time')\n",
    "    interpolated_dfs[(attraction, date)] = group\n",
    "\n",
    "interpolated_dfs  # `interpolated_dfs` contains a separate DataFrame for each attraction with interpolated 'SPOSTMIN'\n",
    "# dumbo_1_df = interpolated_dfs[('dumbo', pd.to_datetime('01/01/2018') )]\n",
    "# dumbo_1_df[dumbo_1_df['SACTMIN'].notna()]\n",
    "# dwarfs_2_df = interpolated_dfs[('7_dwarfs_train', pd.to_datetime('01/01/2018') )]\n",
    "\n",
    "df_final = pd.concat(interpolated_dfs.values())"
   ]
  },
  {
   "cell_type": "code",
   "execution_count": 7,
   "id": "61f05b88-2eda-439e-acdc-4a7780551fa7",
   "metadata": {},
   "outputs": [],
   "source": [
    "# show only df_SACTMIN\n",
    "df_interpolated = df_final[df_final['SACTMIN'].notna()]"
   ]
  },
  {
   "cell_type": "code",
   "execution_count": 8,
   "id": "f4ba3ee3-95b9-45d3-b761-854b4c2703a8",
   "metadata": {
    "jupyter": {
     "source_hidden": true
    }
   },
   "outputs": [
    {
     "name": "stderr",
     "output_type": "stream",
     "text": [
      "/tmp/ipykernel_9264/1258190128.py:2: SettingWithCopyWarning: \n",
      "A value is trying to be set on a copy of a slice from a DataFrame.\n",
      "Try using .loc[row_indexer,col_indexer] = value instead\n",
      "\n",
      "See the caveats in the documentation: https://pandas.pydata.org/pandas-docs/stable/user_guide/indexing.html#returning-a-view-versus-a-copy\n",
      "  df_interpolated['diff']= (\n"
     ]
    }
   ],
   "source": [
    "# Calculate the difference between actual and estimated waiting times.\n",
    "df_interpolated['diff']= (\n",
    "        df_interpolated['SPOSTMIN'] - df_interpolated['SACTMIN'])\n",
    "# Clean the dataset\n",
    "df_interpolated = ( df_interpolated[ \n",
    "                           ( df_interpolated['diff'].notna() ) & \n",
    "                           ( df_interpolated['SPOSTMIN']>=0 ) & \n",
    "                           (df_interpolated['diff']>=-100 ) & \n",
    "                           (df_interpolated['diff']<=100 ) ] )"
   ]
  },
  {
   "cell_type": "code",
   "execution_count": 9,
   "id": "19666ad3-7085-4d8a-b3dc-cc4fe4e73d71",
   "metadata": {},
   "outputs": [],
   "source": [
    "# df_interpolated  # 22026 rows × 5 columns"
   ]
  },
  {
   "cell_type": "code",
   "execution_count": 13,
   "id": "34977f14-5280-4781-92af-b4ed12a1beaf",
   "metadata": {},
   "outputs": [
    {
     "data": {
      "application/vnd.jupyter.widget-view+json": {
       "model_id": "a27af6d668994c8693c90899dddf66de",
       "version_major": 2,
       "version_minor": 0
      },
      "text/plain": [
       "interactive(children=(SelectMultiple(description='Attractions', index=(0,), options=('7_dwarfs_train', 'alien_…"
      ]
     },
     "metadata": {},
     "output_type": "display_data"
    }
   ],
   "source": [
    "# Visualize differences between actual and estimated waiting times for attractions by choise.\n",
    "\n",
    "# Widget for selecting attractions\n",
    "attraction_selector = widgets.SelectMultiple(\n",
    "    options=list_attractions,\n",
    "    value=list_attractions[:1],  # Default to first attraction\n",
    "    description='Attractions',\n",
    "    disabled=False  )\n",
    "\n",
    "# Define function to update plots based on selected attractions\n",
    "def update_plots(selected_attractions):\n",
    "    # Filter the dataframe based on selected attractions\n",
    "    df_query = df_interpolated[df_interpolated['attraction'].isin(selected_attractions)]\n",
    "    \n",
    "    # Create a 2x2 grid for the subplots\n",
    "    fig, axs = plt.subplots(2, 2, figsize=(8, 8))\n",
    "    \n",
    "    # Plot 1: Histogram of 'diff'\n",
    "    sns.histplot(data=df_query['diff'], bins=30, ax=axs[0, 0])\n",
    "    axs[0, 0].axvline(color='r')\n",
    "    axs[0, 0].axvline(df_query['diff'].mean(), color='b')\n",
    "    axs[0, 0].set_title('Histogram of Differences between Interpolated SPOSTMIN and SACTMIN', wrap=True)\n",
    "    \n",
    "    # Plot 2: Scatter plot with regression line\n",
    "    sns.regplot(data=df_query, x='SACTMIN', y='SPOSTMIN', scatter=True, line_kws={'color':'r'}, ax=axs[0, 1])\n",
    "    axs[0, 1].set_title('Regression Plot', wrap=True)\n",
    "    \n",
    "    # Plot 3: 2D Histogram\n",
    "    c = axs[1, 0].hist2d(df_query['SACTMIN'], df_query['SPOSTMIN'], bins=10, cmap='Blues')\n",
    "    plt.colorbar(c[3], ax=axs[1, 0], label='Frequency')  # Corrected colorbar usage\n",
    "    axs[1, 0].set_xlabel('SACTMIN')\n",
    "    axs[1, 0].set_ylabel('SPOSTMIN')\n",
    "    axs[1, 0].set_title('2D Histogram of Differences', wrap=True)\n",
    "    \n",
    "    # Plot 4: Correlation Heatmap\n",
    "    correlation_matrix = df_query[['SACTMIN', 'SPOSTMIN']].corr()\n",
    "    sns.heatmap(correlation_matrix, annot=True, fmt='.2f', ax=axs[1, 1])\n",
    "    axs[1, 1].set_title('Correlation Heatmap', wrap=True)\n",
    "    \n",
    "    # Adjust layout to prevent overlap\n",
    "    plt.tight_layout()\n",
    "    plt.show()\n",
    "\n",
    "# Make the widget interactive\n",
    "interact(update_plots, selected_attractions=attraction_selector)\n",
    "None"
   ]
  },
  {
   "cell_type": "code",
   "execution_count": 11,
   "id": "ca87d787-038d-4b40-8ca3-db7c9e50e860",
   "metadata": {},
   "outputs": [
    {
     "data": {
      "application/vnd.jupyter.widget-view+json": {
       "model_id": "5f4dcdc56a6545ad8ceb34d159226b8e",
       "version_major": 2,
       "version_minor": 0
      },
      "text/plain": [
       "interactive(children=(Dropdown(description='Date:', options=('2018-09-08', '2018-12-02', '2018-11-27', '2018-0…"
      ]
     },
     "metadata": {},
     "output_type": "display_data"
    }
   ],
   "source": [
    "# Compare actual waiting times with calculated waiting times for 1 specific attraction and for 1 specific day of choise.\n",
    "\n",
    "list_obs_att=['pirates_of_caribbean', 'soarin', 'big_thunder_mtn', 'haunted_mansion', 'toy_story_mania']\n",
    "list_obs_date=['2018-09-08', '2018-12-02', '2018-11-27', '2018-08-24', '2018-09-09']\n",
    "\n",
    "# Widget for selecting date\n",
    "date_selector = widgets.Dropdown(\n",
    "    options=list_obs_date,\n",
    "    value='2018-09-08',  # Default value\n",
    "    description='Date:',\n",
    "    disabled=False  )\n",
    "\n",
    "# Widget for selecting attractions (can select multiple attractions)\n",
    "attraction_selector = widgets.SelectMultiple(\n",
    "    options=list_obs_att,\n",
    "    value=['pirates_of_caribbean', 'soarin'],  # Default values\n",
    "    description='Attractions:',\n",
    "    disabled=False  )\n",
    "\n",
    "# Define function to update plots based on selected date and attractions\n",
    "def update_plots(selected_date, selected_attractions):\n",
    "    # Convert selected date to datetime object\n",
    "    temp_date = pd.to_datetime(selected_date, format='%Y-%m-%d')\n",
    "    \n",
    "    # Ensure two attractions are selected\n",
    "    if len(selected_attractions) != 2:\n",
    "        print(\"Please select exactly two attractions.\")\n",
    "        return\n",
    "    \n",
    "    temp_attraction1, temp_attraction2 = selected_attractions\n",
    "\n",
    "    # Filter the dataframe for the selected date and attractions\n",
    "    df_temp1 = df_interpolated.query('attraction==@temp_attraction1 and date==@temp_date')\n",
    "    df_temp2 = df_interpolated.query('attraction==@temp_attraction2 and date==@temp_date')\n",
    "\n",
    "    # Create plots\n",
    "    fig, (ax1, ax2) = plt.subplots(1, 2, figsize=(14, 6))\n",
    "\n",
    "    # Plot for the first attraction\n",
    "    df_temp1.plot(y=['SPOSTMIN', 'SACTMIN'], marker='o', ax=ax1)\n",
    "    ax1.set_title(f'Actual vs Posted Waiting Time for {temp_attraction1} on {temp_date.date()}', wrap=True)\n",
    "    ax1.set_xlabel('Datetime')\n",
    "    ax1.set_ylabel('Waiting Minutes')\n",
    "\n",
    "    # Plot for the second attraction\n",
    "    df_temp2.plot(y=['SPOSTMIN', 'SACTMIN'], marker='o', ax=ax2)\n",
    "    ax2.set_title(f'Actual vs Posted Waiting Time for {temp_attraction2} on {temp_date.date()}', wrap=True)\n",
    "    ax2.set_xlabel('Datetime')\n",
    "    ax2.set_ylabel('Waiting Minutes')\n",
    "\n",
    "    # Adjust layout to prevent overlap\n",
    "    plt.tight_layout()\n",
    "    plt.show()\n",
    "\n",
    "# Make the widget interactive\n",
    "interact(update_plots, selected_date=date_selector, selected_attractions=attraction_selector)\n",
    "None"
   ]
  },
  {
   "cell_type": "code",
   "execution_count": 59,
   "id": "cf9d356a-b6df-4f5b-9370-80dd39ad1246",
   "metadata": {
    "collapsed": true,
    "jupyter": {
     "outputs_hidden": true,
     "source_hidden": true
    }
   },
   "outputs": [
    {
     "data": {
      "text/html": [
       "<div>\n",
       "<style scoped>\n",
       "    .dataframe tbody tr th:only-of-type {\n",
       "        vertical-align: middle;\n",
       "    }\n",
       "\n",
       "    .dataframe tbody tr th {\n",
       "        vertical-align: top;\n",
       "    }\n",
       "\n",
       "    .dataframe thead th {\n",
       "        text-align: right;\n",
       "    }\n",
       "</style>\n",
       "<table border=\"1\" class=\"dataframe\">\n",
       "  <thead>\n",
       "    <tr style=\"text-align: right;\">\n",
       "      <th></th>\n",
       "      <th>date</th>\n",
       "      <th>SACTMIN</th>\n",
       "      <th>SPOSTMIN</th>\n",
       "      <th>attraction</th>\n",
       "      <th>diff</th>\n",
       "    </tr>\n",
       "    <tr>\n",
       "      <th>datetime</th>\n",
       "      <th></th>\n",
       "      <th></th>\n",
       "      <th></th>\n",
       "      <th></th>\n",
       "      <th></th>\n",
       "    </tr>\n",
       "  </thead>\n",
       "  <tbody>\n",
       "    <tr>\n",
       "      <th>2015-09-12 10:32:48</th>\n",
       "      <td>2015-09-12</td>\n",
       "      <td>13.0</td>\n",
       "      <td>10.000000</td>\n",
       "      <td>astro_orbiter</td>\n",
       "      <td>-3.000000</td>\n",
       "    </tr>\n",
       "    <tr>\n",
       "      <th>2015-09-12 16:31:31</th>\n",
       "      <td>2015-09-12</td>\n",
       "      <td>6.0</td>\n",
       "      <td>-55.978448</td>\n",
       "      <td>astro_orbiter</td>\n",
       "      <td>-61.978448</td>\n",
       "    </tr>\n",
       "  </tbody>\n",
       "</table>\n",
       "</div>"
      ],
      "text/plain": [
       "                          date  SACTMIN   SPOSTMIN     attraction       diff\n",
       "datetime                                                                    \n",
       "2015-09-12 10:32:48 2015-09-12     13.0  10.000000  astro_orbiter  -3.000000\n",
       "2015-09-12 16:31:31 2015-09-12      6.0 -55.978448  astro_orbiter -61.978448"
      ]
     },
     "execution_count": 59,
     "metadata": {},
     "output_type": "execute_result"
    }
   ],
   "source": [
    "# Dataframe selector\n",
    "# q_date= pd.to_datetime('2015-09-12', format='%Y-%m-%d')\n",
    "# q_attraction= 'astro_orbiter'\n",
    "# df_interpolated.query( ' date==@q_date and attraction==@q_attractions' )"
   ]
  },
  {
   "cell_type": "code",
   "execution_count": null,
   "id": "4cfeea24-de77-4594-84c9-b1502c1e30a9",
   "metadata": {},
   "outputs": [],
   "source": []
  }
 ],
 "metadata": {
  "kernelspec": {
   "display_name": "Python 3 (ipykernel)",
   "language": "python",
   "name": "python3"
  },
  "language_info": {
   "codemirror_mode": {
    "name": "ipython",
    "version": 3
   },
   "file_extension": ".py",
   "mimetype": "text/x-python",
   "name": "python",
   "nbconvert_exporter": "python",
   "pygments_lexer": "ipython3",
   "version": "3.12.8"
  }
 },
 "nbformat": 4,
 "nbformat_minor": 5
}
